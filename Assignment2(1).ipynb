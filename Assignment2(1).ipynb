{
  "nbformat": 4,
  "nbformat_minor": 0,
  "metadata": {
    "colab": {
      "provenance": []
    },
    "kernelspec": {
      "name": "python3",
      "display_name": "Python 3"
    },
    "language_info": {
      "name": "python"
    }
  },
  "cells": [
    {
      "cell_type": "code",
      "execution_count": null,
      "metadata": {
        "id": "qVOlps8lmDvP"
      },
      "outputs": [],
      "source": [
        "#Ali Mousavi Roozbahani 101321818\n",
        "# https://youtu.be/TYy_DUlislQ\n",
        "# Please import random and string libraries.\n",
        "# Please note that the empty cells are there for you to enter your code :)\n",
        "import random\n",
        "import string"
      ]
    },
    {
      "cell_type": "code",
      "source": [
        "# Connect your Colab to your Google drive.\n",
        "# Hint: Using dive.mount"
      ],
      "metadata": {
        "id": "tBsKc5lta76t"
      },
      "execution_count": null,
      "outputs": []
    },
    {
      "cell_type": "code",
      "source": [
        "from google.colab import drive\n",
        "\n",
        "drive.mount('/content/drive')\n"
      ],
      "metadata": {
        "colab": {
          "base_uri": "https://localhost:8080/"
        },
        "id": "wLfpcTuhbU3O",
        "outputId": "778afb68-88ea-4d35-9948-3fd5cfc087cc"
      },
      "execution_count": null,
      "outputs": [
        {
          "output_type": "stream",
          "name": "stdout",
          "text": [
            "Mounted at /content/drive\n"
          ]
        }
      ]
    },
    {
      "cell_type": "code",
      "source": [
        "# 1 Marks\n",
        "# Now, we need to open a file that we save our score in it, called Score.txt.\n",
        "# Please check if Score.txt contains anyting or not.\n",
        "# If it does not contain anything, the program should show the following message:\n",
        "# \"Welcome to your Math Game!\"\n",
        "# If you have run the code before and there is any score saved into the file,\n",
        "# the following message should appear:\n",
        "# \"I am happy to meet you again! Your last score was XXX!\", which XXX is your\n",
        "# saved score from the previous attempt.\n",
        "# Make sure that you check all the possible errors (Exception Handling)\n",
        "#\n",
        "# Some hints:\n",
        "# For FileNotFoundError, please show \"No file is found! We will make one for you. Welcome!\"\n",
        "# For OSError, please show \"File found - error reading file!\"\n",
        "# For any other Exception, please show \"An unexpected error occurred!\"\""
      ],
      "metadata": {
        "id": "dYgehJ9zmJrG"
      },
      "execution_count": null,
      "outputs": []
    },
    {
      "cell_type": "code",
      "source": [
        "def check_score():\n",
        "    global maxScore\n",
        "    try:\n",
        "        with open('/content/drive/MyDrive/Score.txt', 'r') as file:\n",
        "            score = file.read().strip()\n",
        "            if score:\n",
        "                print(f\"I am happy to meet you again! Your last score was {score}!\")\n",
        "                maxScore = int(score)\n",
        "            else:\n",
        "                print(\"Welcome to your Math Game!\")\n",
        "    except FileNotFoundError:\n",
        "        print(\"No file is found! We will make one for you. Welcome!\")\n",
        "    except OSError:\n",
        "        print(\"File found - error reading file!\")\n",
        "    except Exception:\n",
        "        print(\"An unexpected error occurred!\")"
      ],
      "metadata": {
        "id": "jsNqxpqqc4B9"
      },
      "execution_count": null,
      "outputs": []
    },
    {
      "cell_type": "code",
      "source": [
        "# 1 Marks\n",
        "# Define a function, called  myMathTest that has the following parts:\n",
        "# You need to callmaxScore here (your global variable) as you need to modify it\n",
        "# in this function.\n",
        "#\n",
        "# Define two random integers, e.g. variable a and variable b\n",
        "# These two random integers are between 1 to 10.\n",
        "# Imagine, in one run the random numbers for a, and b are 3 and 5 respectively.\n",
        "#\n",
        "# Define a mechanism that generates a random operator\n",
        "# (one of the following operators +, - or * )\n",
        "# Imagine the random operator is *, so you need to calculate c=a*b\n",
        "# Which would be c=3*5\n",
        "#\n",
        "# Now, you need to ask the user the following question:\n",
        "# What is the result of 3*5?\n",
        "#\n",
        "# If the user enters 15, the following message should appear:\n",
        "# \"Congratulations! You are Pro!\"\n",
        "# And you need to add 1 to your global maxScore.\n",
        "#\n",
        "# If the user enters a wrong answer, e.g. 10,\n",
        "# the following message should appear:\n",
        "# \"The correct answer is 15. Let's try another question :)\"\n",
        "# And you need to deduct 1 from your global maxScore."
      ],
      "metadata": {
        "id": "tfd2qNjKc6zM"
      },
      "execution_count": null,
      "outputs": []
    },
    {
      "cell_type": "code",
      "source": [
        "def myMathTest():\n",
        "    global maxScore\n",
        "    a = random.randint(1, 10)\n",
        "    b = random.randint(1, 10)\n",
        "    operator = random.choice(['+', '-', '*'])\n",
        "\n",
        "    if operator == '+':\n",
        "        c = a + b\n",
        "    elif operator == '-':\n",
        "        c = a - b\n",
        "    else:\n",
        "        c = a * b\n",
        "\n",
        "    user_answer = input(f\"What is the result of {a} {operator} {b}? \")\n",
        "    if user_answer.isdigit() and int(user_answer) == c:\n",
        "        print(\"Congratulations! You are Pro!\")\n",
        "        maxScore += 1\n",
        "    else:\n",
        "        print(f\"The correct answer is {c}. Let's try another question :)\")\n",
        "        maxScore -= 1"
      ],
      "metadata": {
        "id": "73KyhA68c84Z"
      },
      "execution_count": null,
      "outputs": []
    },
    {
      "cell_type": "code",
      "source": [
        "# 1 Marks\n",
        "# Now, define an infinite loop (Hint: Using True as the condition)\n",
        "# and call myMathTest() as the first statement inside the loop.\n",
        "# Then, every time ask the user if they want to continue playing or not,\n",
        "# asking the following question:\n",
        "# \"Do you want to continue? (Y to continue, any other character to Exit)\"\n",
        "\n",
        "# The game should continue as long as the user presses \"y\" or \"Y\".\n",
        "\n",
        "# After the user entered any character, but \"y\" or \"Y\",\n",
        "# you should print the following messages:\n",
        "# \"Thank you for playing!\"\n",
        "# \"You got XXX!\"\n",
        "# \"WOW!\"\n",
        "\n",
        "# e.g. if the achieved score is 150, the messages would be as follows:\n",
        "# \"Thank you for playing!\"\n",
        "# \"You got 150!\"\n",
        "# \"WOW!\""
      ],
      "metadata": {
        "id": "NzicxGLndH-7"
      },
      "execution_count": null,
      "outputs": []
    },
    {
      "cell_type": "code",
      "source": [
        "def main():\n",
        "    global maxScore\n",
        "    maxScore = 0\n",
        "    check_score()\n",
        "    while True:\n",
        "        myMathTest()\n",
        "        choice = input(\"Do you want to continue? (Y to continue, any other character to Exit)\")\n",
        "        if choice.lower() != 'y':\n",
        "            break\n",
        "    print(\"Thank you for playing!\")\n",
        "    print(f\"You got {maxScore}!\")\n",
        "    print(\"WOW!\")\n",
        "\n",
        "\n",
        "\n",
        "# Execute the main function\n",
        "main()"
      ],
      "metadata": {
        "colab": {
          "base_uri": "https://localhost:8080/"
        },
        "id": "8PaJ5md1dI40",
        "outputId": "d520b779-d74b-4924-b348-bf1f642a581a"
      },
      "execution_count": null,
      "outputs": [
        {
          "output_type": "stream",
          "name": "stdout",
          "text": [
            "No file is found! We will make one for you. Welcome!\n",
            "What is the result of 2 + 6? 8\n",
            "Congratulations! You are Pro!\n",
            "Do you want to continue? (Y to continue, any other character to Exit)y\n",
            "What is the result of 3 * 5? 6\n",
            "The correct answer is 15. Let's try another question :)\n",
            "Do you want to continue? (Y to continue, any other character to Exit)s\n",
            "Thank you for playing!\n",
            "You got 0!\n",
            "WOW!\n"
          ]
        }
      ]
    },
    {
      "cell_type": "code",
      "source": [
        "# 0.2 Mark\n",
        "# Then, save the achieved score in the \"Score.txt\" file."
      ],
      "metadata": {
        "id": "QPPH84__dfy1"
      },
      "execution_count": null,
      "outputs": []
    },
    {
      "cell_type": "code",
      "source": [
        "with open('/content/drive/MyDrive/Score.txt', 'w') as file:\n",
        "        file.write(str(maxScore))\n",
        "\n",
        "main()"
      ],
      "metadata": {
        "colab": {
          "base_uri": "https://localhost:8080/"
        },
        "id": "IzYZsQjgdiDB",
        "outputId": "f33455d5-2bc9-42d9-fe4c-8f2fe705a9cb"
      },
      "execution_count": null,
      "outputs": [
        {
          "output_type": "stream",
          "name": "stdout",
          "text": [
            "I am happy to meet you again! Your last score was 0!\n",
            "What is the result of 2 * 2? 4\n",
            "Congratulations! You are Pro!\n",
            "Do you want to continue? (Y to continue, any other character to Exit)d\n",
            "Thank you for playing!\n",
            "You got 1!\n",
            "WOW!\n"
          ]
        }
      ]
    },
    {
      "cell_type": "code",
      "source": [
        "#STEP 2\n",
        "# Now, you reviewed the Quadratic Equation concept.\n",
        "# First, we type \"Welcome to Quadratic Equation Game!\""
      ],
      "metadata": {
        "id": "FEJgUK0gdrSu"
      },
      "execution_count": null,
      "outputs": []
    },
    {
      "cell_type": "code",
      "source": [
        "import math\n",
        "\n",
        "print(\"Welcome to Quadratic Equation Game!\")"
      ],
      "metadata": {
        "colab": {
          "base_uri": "https://localhost:8080/"
        },
        "id": "lEwa5t5HdvK5",
        "outputId": "22df4d3e-413a-4cfa-f067-06c328177a97"
      },
      "execution_count": null,
      "outputs": [
        {
          "output_type": "stream",
          "name": "stdout",
          "text": [
            "Welcome to Quadratic Equation Game!\n"
          ]
        }
      ]
    },
    {
      "cell_type": "code",
      "source": [
        "# Next, please show the Quadratic Equation as follows:\n",
        "# \"aX^2 + bX + C = 0\""
      ],
      "metadata": {
        "id": "_ja-jlbodz50"
      },
      "execution_count": null,
      "outputs": []
    },
    {
      "cell_type": "code",
      "source": [
        "print(f\"ax^2 + bx + c = 0\")"
      ],
      "metadata": {
        "colab": {
          "base_uri": "https://localhost:8080/"
        },
        "id": "clOnU8hjd0bv",
        "outputId": "92fbbaa0-140c-4029-cba8-3b888cf73979"
      },
      "execution_count": null,
      "outputs": [
        {
          "output_type": "stream",
          "name": "stdout",
          "text": [
            "ax^2 + bx + c = 0\n"
          ]
        }
      ]
    },
    {
      "cell_type": "code",
      "source": [
        "# 0.2 Mark\n",
        "# Then, ask the user to enter a, b, and c, respectively."
      ],
      "metadata": {
        "id": "anxjM-GSd19f"
      },
      "execution_count": null,
      "outputs": []
    },
    {
      "cell_type": "code",
      "source": [
        "a = int(input(\"Enter the value for a: \"))"
      ],
      "metadata": {
        "colab": {
          "base_uri": "https://localhost:8080/"
        },
        "id": "f2abkwmod3s-",
        "outputId": "70d2858a-7246-4284-f233-e2b9782357bd"
      },
      "execution_count": null,
      "outputs": [
        {
          "name": "stdout",
          "output_type": "stream",
          "text": [
            "Enter the value for a: 1\n"
          ]
        }
      ]
    },
    {
      "cell_type": "code",
      "source": [
        "b = int(input(\"Enter the value for b: \"))"
      ],
      "metadata": {
        "colab": {
          "base_uri": "https://localhost:8080/"
        },
        "id": "EybYiOdMd7g4",
        "outputId": "f7c821c4-16ae-43ed-c54b-70667a316ecf"
      },
      "execution_count": null,
      "outputs": [
        {
          "name": "stdout",
          "output_type": "stream",
          "text": [
            "Enter the value for b: 5\n"
          ]
        }
      ]
    },
    {
      "cell_type": "code",
      "source": [
        "c = int(input(\"Enter the value for c: \"))"
      ],
      "metadata": {
        "colab": {
          "base_uri": "https://localhost:8080/"
        },
        "id": "s2NCV7B4d-H5",
        "outputId": "070ffa46-f2a6-4a72-e479-7d8bb24d336d"
      },
      "execution_count": null,
      "outputs": [
        {
          "name": "stdout",
          "output_type": "stream",
          "text": [
            "Enter the value for c: 6\n"
          ]
        }
      ]
    },
    {
      "cell_type": "code",
      "source": [
        "# 0.2 Mark\n",
        "# Now, please show the quadratic equation to the user, before start solving it:\n",
        "# e.g. \"Your Quadratic Equation is: 1X^2 + 5X + 6 = 0\""
      ],
      "metadata": {
        "id": "LMS4e82VeBiH"
      },
      "execution_count": null,
      "outputs": []
    },
    {
      "cell_type": "code",
      "source": [
        "print(f\"Your Quadratic Equation is: {a}X^2 + {b}X + {c} = 0\")"
      ],
      "metadata": {
        "colab": {
          "base_uri": "https://localhost:8080/"
        },
        "id": "oxuZgG2teCQy",
        "outputId": "94040faa-5d1d-4813-e064-3a40ac249277"
      },
      "execution_count": null,
      "outputs": [
        {
          "output_type": "stream",
          "name": "stdout",
          "text": [
            "Your Quadratic Equation is: 1X^2 + 5X + 6 = 0\n"
          ]
        }
      ]
    },
    {
      "cell_type": "code",
      "source": [
        "# 0.2 Mark\n",
        "# Define a function, called discriminant that receives a, b, and c, and calculates the discriminant."
      ],
      "metadata": {
        "id": "8q1z8M9TeEuh"
      },
      "execution_count": null,
      "outputs": []
    },
    {
      "cell_type": "code",
      "source": [
        "def discriminant(a, b, c):\n",
        "    return b**2 - 4*a*c\n",
        "\n",
        "D = discriminant(a, b, c)"
      ],
      "metadata": {
        "id": "D98marBfeHAi"
      },
      "execution_count": null,
      "outputs": []
    },
    {
      "cell_type": "code",
      "source": [
        "# 1 Marks\n",
        "# Use the above function in the following part:\n",
        "# If Discriminant is positive, we get two Real solutions.\n",
        "# So, please print \"We got two real solutions, which are X1, and X2\"\n",
        "# Sure, you calculate the value of X1, and X2.\n",
        "\n",
        "# If Discriminant  is zero we get just ONE real solution (both answers are the same).\n",
        "# So, please print \"We got one real solution, which is X1\"\n",
        "# Sure, you calculate the value of X1.\n",
        "\n",
        "# If Discriminant is negative we get a pair of Complex solutions.\n",
        "# So, please print \"The Discriminant is negative, we got a pair of Complex solutions.\"\n",
        "# You do not need to show the complex solutions :)\n",
        "\n",
        "# Note: You need to import math library, and calculate the square root of\n",
        "# discriminant for the case that you have two real solutions."
      ],
      "metadata": {
        "id": "qlqxlj_1eJTb"
      },
      "execution_count": null,
      "outputs": []
    },
    {
      "cell_type": "code",
      "source": [
        "if D > 0:\n",
        "    # Two real solutions\n",
        "    X1 = (-b + math.sqrt(D)) / (2*a)\n",
        "    X2 = (-b - math.sqrt(D)) / (2*a)\n",
        "    print(f\"We got two real solutions, which are {X1} and {X2}\")\n",
        "elif D == 0:\n",
        "    # One real solution\n",
        "    X1 = -b / (2*a)\n",
        "    print(f\"We got one real solution, which is {X1}\")\n",
        "else:\n",
        "    # Complex solutions\n",
        "    print(\"The Discriminant is negative, we got a pair of Complex solutions.\")"
      ],
      "metadata": {
        "colab": {
          "base_uri": "https://localhost:8080/"
        },
        "id": "IOYwAYeDeK2B",
        "outputId": "bda6247a-5bd4-491c-b9d7-55d8f7556a67"
      },
      "execution_count": null,
      "outputs": [
        {
          "output_type": "stream",
          "name": "stdout",
          "text": [
            "We got two real solutions, which are -2.0 and -3.0\n"
          ]
        }
      ]
    },
    {
      "cell_type": "code",
      "source": [
        "# 0.2 Mark\n",
        "# Finally, save the above two messages into a file, called \"QuadEqu.txt\"\n",
        "# e.g.\n",
        "# Your Quadratic Equation is: 1X^2 + 5X + 6 = 0\n",
        "# We got two real solutions,, which are -2.0, and -3.0"
      ],
      "metadata": {
        "id": "3aRq9FfIeN_o"
      },
      "execution_count": null,
      "outputs": []
    },
    {
      "cell_type": "code",
      "source": [
        "with open('/content/drive/MyDrive/QuadEqu.txt', 'w') as file:\n",
        "    file.write(f\"Your Quadratic Equation is: {a}X^2 + {b}X + {c} = 0\\n\")\n",
        "    if D > 0:\n",
        "        file.write(f\"We got two real solutions, which are {X1}, and {X2}\")\n",
        "    elif D == 0:\n",
        "        file.write(f\"We got one real solution, which is {X1}\")\n",
        "    else:\n",
        "        file.write(\"The Discriminant is negative, we got a pair of Complex solutions.\")"
      ],
      "metadata": {
        "id": "n2GLmL7tePj_"
      },
      "execution_count": null,
      "outputs": []
    }
  ]
}