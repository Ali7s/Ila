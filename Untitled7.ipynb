{
  "nbformat": 4,
  "nbformat_minor": 0,
  "metadata": {
    "colab": {
      "provenance": []
    },
    "kernelspec": {
      "name": "python3",
      "display_name": "Python 3"
    },
    "language_info": {
      "name": "python"
    }
  },
  "cells": [
    {
      "cell_type": "code",
      "execution_count": null,
      "metadata": {
        "id": "o9NSvIEFNtYD"
      },
      "outputs": [],
      "source": [
        "# 101321818\n",
        "# Ali Mousavi Roozbahani"
      ]
    },
    {
      "cell_type": "code",
      "source": [
        "# define Vehicle class with 3 private properties: make, model, year, is_started\n",
        "# set the default value = 'False' for 'is_started'\n",
        "# Add methods to get and set the value of the 'make' property.\n",
        "# Use appropriate decorators for get and set method: @property and @accessor_property_name.setter"
      ],
      "metadata": {
        "id": "o7ZJYjvWPBCB"
      },
      "execution_count": null,
      "outputs": []
    },
    {
      "cell_type": "code",
      "source": [
        "class Vehicle:\n",
        "  def __init__(self, make, model, year):\n",
        "    self.__make = make\n",
        "    self.__model = model\n",
        "    self.__year = year\n",
        "    self.__is_started = False\n",
        "  @property\n",
        "  def make(self):\n",
        "    return self.__make\n",
        "  @make.setter\n",
        "  def make(self, value):\n",
        "    self.__make = value"
      ],
      "metadata": {
        "id": "YHhF7lthOurg"
      },
      "execution_count": null,
      "outputs": []
    },
    {
      "cell_type": "code",
      "source": [
        "# Similarly, add get/set methods for 'model' and 'year' property.\n",
        "# Use appropriate decorators."
      ],
      "metadata": {
        "id": "gxAso1vBPpUK"
      },
      "execution_count": null,
      "outputs": []
    },
    {
      "cell_type": "code",
      "source": [
        "class Vehicle:\n",
        "  def __init__(self, make, model, year):\n",
        "    self.__make = make\n",
        "    self.__model = model\n",
        "    self.__year = year\n",
        "    self.__is_started = False\n",
        "  @property\n",
        "  def make(self):\n",
        "    return self.__make\n",
        "  @make.setter\n",
        "  def make(self, value):\n",
        "    self.__make = value\n",
        "  @property\n",
        "  def model(self):\n",
        "    return self.__model\n",
        "  @model.setter\n",
        "  def model(self, value):\n",
        "    self.__model = value\n",
        "  @property\n",
        "  def year(self):\n",
        "    return self.__year\n",
        "  @year.setter\n",
        "  def year(self, value):\n",
        "    self.__year = value"
      ],
      "metadata": {
        "id": "SpouhsrPR7Oq"
      },
      "execution_count": null,
      "outputs": []
    },
    {
      "cell_type": "code",
      "source": [
        "my_vehicle = Vehicle(\"BMW\", \"X3\", 2023)"
      ],
      "metadata": {
        "id": "zCzRI2YpSYe6"
      },
      "execution_count": null,
      "outputs": []
    },
    {
      "cell_type": "code",
      "source": [
        "print(f'vehicle Make: {my_vehicle.make}')\n",
        "print(f'vehicle Model: {my_vehicle.model}')\n",
        "print(f'vehicle Year: {my_vehicle.year}')"
      ],
      "metadata": {
        "colab": {
          "base_uri": "https://localhost:8080/"
        },
        "id": "3WBvEZivSiUd",
        "outputId": "cb801d70-e3a3-4ed3-dea6-231a02b44730"
      },
      "execution_count": null,
      "outputs": [
        {
          "output_type": "stream",
          "name": "stdout",
          "text": [
            "vehicle Make: BMW\n",
            "vehicle Model: X3\n",
            "vehicle Year: 2023\n"
          ]
        }
      ]
    },
    {
      "cell_type": "code",
      "source": [
        "class Car(Vehicle):\n",
        "  def __init__(self, make, model, year, color):\n",
        "    super().__init__(make, model, year)\n",
        "    self.__color = color\n",
        "  @property\n",
        "  def color(self):\n",
        "    return self.__color\n",
        "  @color.setter\n",
        "  def color(self, value):\n",
        "    self.__color = value"
      ],
      "metadata": {
        "id": "3HiqxbA0T2j0"
      },
      "execution_count": null,
      "outputs": []
    },
    {
      "cell_type": "code",
      "source": [
        "my_car = Car(\"BMW\", \"Z4\", \"2023\", \"Red\")"
      ],
      "metadata": {
        "id": "Sj7SKqA9UeYf"
      },
      "execution_count": null,
      "outputs": []
    },
    {
      "cell_type": "code",
      "source": [
        "print(f'Car Make: {my_car.make}')\n",
        "print(f'Car Model: {my_car.model}')\n",
        "print(f'Car Year: {my_car.year}')\n",
        "print(f'Car Color: {my_car.color}')"
      ],
      "metadata": {
        "colab": {
          "base_uri": "https://localhost:8080/"
        },
        "id": "RyFjwWfmUppF",
        "outputId": "c6783047-2a22-42af-e7ae-4d1e10dec29e"
      },
      "execution_count": null,
      "outputs": [
        {
          "output_type": "stream",
          "name": "stdout",
          "text": [
            "Car Make: BMW\n",
            "Car Model: Z4\n",
            "Car Year: 2023\n",
            "Car Color: Red\n"
          ]
        }
      ]
    }
  ]
}